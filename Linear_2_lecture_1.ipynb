{
  "nbformat": 4,
  "nbformat_minor": 0,
  "metadata": {
    "kernelspec": {
      "display_name": "Python 3",
      "language": "python",
      "name": "python3"
    },
    "language_info": {
      "codemirror_mode": {
        "name": "ipython",
        "version": 3
      },
      "file_extension": ".py",
      "mimetype": "text/x-python",
      "name": "python",
      "nbconvert_exporter": "python",
      "pygments_lexer": "ipython3",
      "version": "3.7.6"
    },
    "colab": {
      "name": "Linear_2-lecture_1.ipynb ",
      "provenance": [],
      "collapsed_sections": [],
      "toc_visible": true,
      "include_colab_link": true
    }
  },
  "cells": [
    {
      "cell_type": "markdown",
      "metadata": {
        "id": "view-in-github",
        "colab_type": "text"
      },
      "source": [
        "<a href=\"https://colab.research.google.com/github/eclipse2maven/colab_sample/blob/master/Linear_2_lecture_1.ipynb\" target=\"_parent\"><img src=\"https://colab.research.google.com/assets/colab-badge.svg\" alt=\"Open In Colab\"/></a>"
      ]
    },
    {
      "cell_type": "markdown",
      "metadata": {
        "id": "FNEhDjhFuntV"
      },
      "source": [
        "# はじめに\n",
        "これから、線形代数 II についてオンライン授業で行います。オンライン授業で授業するのは、まだ慣れてないので、何分不手際もあるると思いますがよろしくお願いします。\n",
        "　\n",
        "## 授業の進め方\n",
        "授業はオンライン反転授業という形で行いたいと思います。従来の反転授業は、用意されたビデオなどをあらかじめ学習して課題を解いたり、議論したりというやり方ですが、ここではビデオは用意しません、私が用意しなくても、ネット上にいろいろなビデオアや情報は転がっています。それらを検索して、必要な情報を見つけてください。こちらからは、調べてほしい内容を指示します。それらについて自分でネットまたは本などで調べてもらい、レポートを提出してもらいます。それと小テスト、これがGoogle Form で選択肢から選んでもらう小テストを提出してもらいます。\n"
      ]
    },
    {
      "cell_type": "markdown",
      "metadata": {
        "id": "6iSfRiJkuntc"
      },
      "source": [
        "### 学んでほしいこと\n",
        "#### 1.Google Classroom. \n",
        "+ この大学の他の授業でもそうですが、Google Classroomを用いて行っています。これからあなたたちが、社会に出て行って、学校や会社に勤めたりしても。自分自身でオンラインで授業したり、研修会を実施したり、参加したりすることが予想されます。コロナによって、世界中がオンラインでの実施の可能性に目覚めて、アフターコロナ後も普及すると考えられます。その意味で、Google Classroom に慣れておくことは重要です。\n"
      ]
    },
    {
      "cell_type": "markdown",
      "metadata": {
        "id": "d0CqYmrhuntd"
      },
      "source": [
        "+ 自分でクラスを作ってみる. ----  Google Classroom  に早くなれるコツはご自分でClassroom を作ってみることです。これにはまず自分のGmailのアカウントが必要になります。これはすでにタブレットやスマホの関係ですでに持ってる人もいれば、いない人もいると思いますが、Gmailアカウントは簡単に作れます。ここで注意してほしいのは、大学で行われてるGoogle　ClassroomのアカウントはG Suit　という大学で一括管理されているアカウントなので、このアカウントでもClassroom を作るかとは可能かもしれませんが、これは一括管理されているので、これとは別の個人のGoogle　アカウントで行ってください。"
      ]
    },
    {
      "cell_type": "markdown",
      "metadata": {
        "id": "8zKTeD8Luntd"
      },
      "source": [
        "#### 2.検索する技術.\n",
        "- インターネット上で自分の知りたい内容をさがす技術を身に着けてください。「Webで知る」--Web情報検索入門--　 k角谷和俊著　サイエンス社　など、Webの検索エンジンの仕組みを簡単に説明した本とかも出ています。いろいろ検索のノウハウを学ぶことは、これからのデジタル社会で非常に役立ちます。またスクレーピングといった技術やプログラミングで自動化する術も身に着けるとこれから非常に役立つと思います。授業の中でPythonのことについても触れていきたいと思っています。実際にはPython単体をインストールするよりもAnacondaをインストールしたほうが何かと便利です。"
      ]
    },
    {
      "cell_type": "markdown",
      "metadata": {
        "id": "NRHqpniOrko_"
      },
      "source": [
        "#### 3.データ分析、データ処理の自動化、Cloud環境、Python, GAS\n",
        "- 近年、Excel等のの処理の自動化、すなわちRPA（Robotonic Process Automation)が騒がれてます。特にPythonのライブラリーであるPandasやopenpyxl を使ったExcelの処理の自動化やSeleniumやBeatifusoup4を使ったWeb操作の自動化やスクレイピングがいろんなところで解説されてます。それらの操作を身につけることやCloud環境に慣れることでGoogle ClassrommやGoogle Colaboratoryを使えるようになることは、オンライン教育を行っていく上で貴重な武器になると思います。ぜひともこの時期にこれらのツールに強くなってください。"
      ]
    },
    {
      "cell_type": "markdown",
      "metadata": {
        "id": "Q97YOOtgunte"
      },
      "source": [
        "#### 3.現代数学の抽象性.\n",
        "- 現代数学の大きな特徴として抽象化があります。高校数学にはなかったもので、特に線形代数や位相空間論ではじめて学ぶことになります。\n",
        "最初は戸惑うかもしれませんが、徐々に慣れてください。数学はある意味では言葉の学問です。講義ででてくる数学的な概念の定義を大切にしてください。ノートに定義を箇条書きに抜き出してみるとか、定義をいつでも引っ張り出せるようなまとめ方をしておくことが大切です。"
      ]
    },
    {
      "cell_type": "markdown",
      "metadata": {
        "id": "xCoLL0ewunte"
      },
      "source": [
        "## 線形空間の基礎\n",
        "- これから線形空間を学ぶにあたって、いくつかのことを述べます。  \n",
        "線形空間はベクトル空間とも言われます。英語では *vector soace* といい￥ます。従って、ベクトルとは線形空間という集合の元のことを指します。線形空間というのはどういう集合なのかその定義を自分で調べてください。　"
      ]
    },
    {
      "cell_type": "markdown",
      "metadata": {
        "id": "bBtWmul0untf"
      },
      "source": [
        "- 最初は定義自体全く意味が分からなくて戸惑うかもしれませんが、今はまだすべて意味が分からなくても大丈夫です。おいおい意味が分かってくると思います。定義を調べてもらうとわかることですが、数と習合の授業で学んだ集合論の知識が必要になってくると思います。位相空間論もそうですが、現代数学を学ぶ上で集合や写像の知識は必須です。さらには圏論も必要になってきます。圏論についてはおいおいおりを触れてふれますが、線形代数で出てき際に集合や写像について復習しながら学ぶことをお勧めします。"
      ]
    },
    {
      "cell_type": "markdown",
      "metadata": {
        "id": "LJYAdctUuntf"
      },
      "source": [
        "\n"
      ]
    },
    {
      "cell_type": "markdown",
      "metadata": {
        "id": "PsE22pykuntf"
      },
      "source": [
        "\n"
      ]
    },
    {
      "cell_type": "markdown",
      "metadata": {
        "id": "wwWURDliuntg"
      },
      "source": [
        "\n"
      ]
    },
    {
      "cell_type": "markdown",
      "metadata": {
        "id": "bZM6yUbJuntg"
      },
      "source": [
        "\n"
      ]
    },
    {
      "cell_type": "code",
      "metadata": {
        "id": "a-oxgsACuntg"
      },
      "source": [
        ""
      ],
      "execution_count": null,
      "outputs": []
    },
    {
      "cell_type": "code",
      "metadata": {
        "id": "osDzJnf-unth"
      },
      "source": [
        ""
      ],
      "execution_count": null,
      "outputs": []
    }
  ]
}